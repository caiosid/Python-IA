{
 "cells": [
  {
   "cell_type": "markdown",
   "metadata": {},
   "source": [
    "# Projeto Python IA: Inteligência Artificial e Previsões\n",
    "\n",
    "### Case: Score de Crédito dos Clientes\n",
    "\n",
    "Você foi contratado por um banco para conseguir definir o score de crédito dos clientes. Você precisa analisar todos os clientes do banco e, com base nessa análise, criar um modelo que consiga ler as informações do cliente e dizer automaticamente o score de crédito dele: Ruim, Ok, Bom"
   ]
  },
  {
   "cell_type": "code",
   "execution_count": null,
   "metadata": {},
   "outputs": [],
   "source": [
    "# Passo a passo\n",
    "# Passo 0 - Entender a empresa e o desafio da empresa \n",
    "# Passo 1 - Importar a base de dados\n",
    "import pandas as pd \n",
    "tabela = pd.read_csv('clientes.csv')\n",
    "display(tabela)"
   ]
  },
  {
   "cell_type": "code",
   "execution_count": null,
   "metadata": {},
   "outputs": [],
   "source": [
    "# Passo 2 - Preparar a base de dados para a Inteligência Artificial\n",
    "# LabelEnCoder\n",
    "from sklearn.preprocessing import LabelEncoder\n",
    "\n",
    "# profissao\n",
    "codificador_profissao = LabelEncoder()\n",
    "tabela[\"profissao\"] = codificador_profissao.fit_transform(tabela[\"profissao\"])\n",
    "\n",
    "# mix_crédito\n",
    "codificador_credito = LabelEncoder()\n",
    "tabela[\"mix_credito\"] = codificador_credito.fit_transform(tabela[\"mix_credito\"])\n",
    "\n",
    "\n",
    "# comportamento_pagamento\n",
    "codificador_pagamento = LabelEncoder()\n",
    "tabela[\"comportamento_pagamento\"] = codificador_pagamento.fit_transform(tabela[\"comportamento_pagamento\"])"
   ]
  },
  {
   "cell_type": "code",
   "execution_count": null,
   "metadata": {},
   "outputs": [],
   "source": [
    "# y -> é a coluna da base de dados que eu quero prever\n",
    "y = tabela[\"score_credito\"]\n",
    "\n",
    "# x -> as colunas da base de dados que eu vou usar para fazer previsão\n",
    "x = tabela.drop(columns=[\"score_credito\", \"id_cliente\"])\n",
    "\n",
    "# separar em dados de treino e dados de teste\n",
    "from sklearn.model_selection import train_test_split\n",
    "\n",
    "x_treino, x_teste, y_treino, y_teste = train_test_split(x,y)"
   ]
  },
  {
   "cell_type": "code",
   "execution_count": null,
   "metadata": {},
   "outputs": [],
   "source": [
    "# Passo 3 - Treinar a Inteligência Artificial -> Criar o modelo de crédito : boa, ok, ruim \n"
   ]
  },
  {
   "cell_type": "code",
   "execution_count": null,
   "metadata": {},
   "outputs": [],
   "source": [
    "# Passo 4 - Escolher qual o melhor modelo\n",
    "\n",
    "\n",
    "# Score de crédito - Nota de crédito"
   ]
  },
  {
   "cell_type": "code",
   "execution_count": null,
   "metadata": {},
   "outputs": [],
   "source": [
    "# Passo 5 - Usar o melhor modelo para fazer previsão de novos clientes"
   ]
  }
 ],
 "metadata": {
  "kernelspec": {
   "display_name": "Python 3",
   "language": "python",
   "name": "python3"
  },
  "language_info": {
   "codemirror_mode": {
    "name": "ipython",
    "version": 3
   },
   "file_extension": ".py",
   "mimetype": "text/x-python",
   "name": "python",
   "nbconvert_exporter": "python",
   "pygments_lexer": "ipython3",
   "version": "3.12.8"
  },
  "orig_nbformat": 4
 },
 "nbformat": 4,
 "nbformat_minor": 2
}
